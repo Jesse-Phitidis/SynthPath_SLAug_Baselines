{
 "cells": [
  {
   "cell_type": "code",
   "execution_count": null,
   "metadata": {},
   "outputs": [],
   "source": [
    "import nibabel as nib\n",
    "import numpy as np\n",
    "from monai.metrics import DiceMetric, HausdorffDistanceMetric\n",
    "#from monai.inferers import SliceInferer\n",
    "import torch\n",
    "from segmentation_models_pytorch import Unet\n",
    "\n",
    "from pathlib import Path"
   ]
  },
  {
   "cell_type": "code",
   "execution_count": null,
   "metadata": {},
   "outputs": [],
   "source": [
    "ckpt_path = Path(\"/home/jesse/projects/canon_placement_y2/SLAug/logs/2024-02-12T23-56-50_seed23_NEW_efficientUnet_T1_to_DWI/checkpoints/val_best_epoch_83.pth\")\n",
    "out_channels = 2\n",
    "\n",
    "modality = Path(\"dwi\")\n",
    "pred_dir = Path(\"/home/jesse/BRICIA/MVH_JPhitidis_PhD/canon_placement_y2/SLAug/test\")\n",
    "save_preds = True\n",
    "\n",
    "image_paths = sorted(Path(f\"/home/jesse/BRICIA/MVH_JPhitidis_PhD/canon_placement_y2/jan2024/data/jan2024new/test/{modality}\").glob(\"*.nii.gz\"))\n",
    "label_paths = sorted(Path(f\"/home/jesse/BRICIA/MVH_JPhitidis_PhD/canon_placement_y2/jan2024/data/jan2024new/test/labels_pathology\").glob(\"*.nii.gz\"))"
   ]
  },
  {
   "cell_type": "code",
   "execution_count": null,
   "metadata": {},
   "outputs": [],
   "source": [
    "# Load model\n",
    "\n",
    "model = Unet(\n",
    "    encoder_name=\"efficientnet-b2\",\n",
    "    encoder_weights=None,\n",
    "    in_channels=1,\n",
    "    classes=out_channels,\n",
    "    activation=None\n",
    ")\n",
    "\n",
    "ckpt = torch.load(ckpt_path)\n",
    "\n",
    "model.load_state_dict(ckpt[\"model\"])\n",
    "model.cuda()\n",
    "model.eval()\n",
    "\n",
    "def predictor(inp):\n",
    "    \n",
    "    out_array = torch.empty_like(inp)\n",
    "    \n",
    "    for slc in range(inp.shape[-1]):\n",
    "    \n",
    "        out = torch.permute(model(torch.permute(inp[..., slc], dims=(0,1,3,2))), dims=(0,1,3,2)) # SLAug has z slices permuted in the x/y direction so we do the same\n",
    "        if out_channels == 20:\n",
    "            out = out[:, (0, 19), ...]\n",
    "        else:\n",
    "            assert out_channels == 2\n",
    "        pred = torch.argmax(out, dim=1)\n",
    "        \n",
    "        out_array[..., slc] = pred\n",
    "    \n",
    "    return out_array"
   ]
  },
  {
   "cell_type": "code",
   "execution_count": null,
   "metadata": {},
   "outputs": [],
   "source": [
    "DiceMetricInstance = DiceMetric(include_background=False, reduction=\"mean\")\n",
    "HausdorffDistanceMetricInstance = HausdorffDistanceMetric(include_background=False, reduction=\"mean\", percentile=95)\n",
    "\n",
    "total=len(image_paths)\n",
    "\n",
    "for i,  (image_path, label_path) in enumerate(zip(image_paths, label_paths)):\n",
    "    \n",
    "    # Load image and label nii\n",
    "    im = nib.load(image_path)\n",
    "    lab = nib.load(label_path)\n",
    "    \n",
    "    # Convert to tensors and normalise image\n",
    "    im_data = torch.from_numpy(im.get_fdata()).to(dtype=torch.float32, device=\"cuda\").unsqueeze(0).unsqueeze(0)\n",
    "    im_data = (im_data - im_data.mean()) / im_data.std()\n",
    "    lab_data = torch.from_numpy(im.get_fdata()).to(dtype=torch.float32).unsqueeze(0).unsqueeze(0)\n",
    "    \n",
    "    # Do pred on volume\n",
    "    pred = predictor(im_data)\n",
    "    \n",
    "    # Get metrics\n",
    "    dice = DiceMetricInstance(pred.cpu(), lab_data)  \n",
    "    hd95 = HausdorffDistanceMetricInstance(pred.cpu(), lab_data)\n",
    "    \n",
    "    # Save\n",
    "    if save_preds:\n",
    "        pred = nib.Nifti1Image(pred[0,0,...].cpu().numpy().astype(np.uint8), affine=lab.affine, header=lab.header)\n",
    "        nib.save(pred, pred_dir / label_path.name)\n",
    "        \n",
    "    print(f\"{i+1}/{total}\")\n",
    "    print(\"dice:\", dice)\n",
    "    print(\"hd95\", hd95)\n",
    "    print()"
   ]
  },
  {
   "cell_type": "code",
   "execution_count": null,
   "metadata": {},
   "outputs": [],
   "source": [
    "dice = DiceMetricInstance.aggregate()\n",
    "hd95 = HausdorffDistanceMetricInstance.aggregate()"
   ]
  },
  {
   "cell_type": "code",
   "execution_count": null,
   "metadata": {},
   "outputs": [],
   "source": [
    "print(dice)\n",
    "print(hd95 * 2)"
   ]
  }
 ],
 "metadata": {
  "language_info": {
   "name": "python"
  }
 },
 "nbformat": 4,
 "nbformat_minor": 2
}
